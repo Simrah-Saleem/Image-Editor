{
 "cells": [
  {
   "cell_type": "code",
   "execution_count": 1,
   "metadata": {},
   "outputs": [
    {
     "ename": "ValueError",
     "evalue": "image has wrong mode",
     "output_type": "error",
     "traceback": [
      "\u001b[1;31m---------------------------------------------------------------------------\u001b[0m",
      "\u001b[1;31mValueError\u001b[0m                                Traceback (most recent call last)",
      "\u001b[1;32mc:\\Python\\Best Projects\\image editor\\imageeditor.ipynb Cell 1'\u001b[0m in \u001b[0;36m<cell line: 41>\u001b[1;34m()\u001b[0m\n\u001b[0;32m     <a href='vscode-notebook-cell:/c%3A/Python/Best%20Projects/image%20editor/imageeditor.ipynb#ch0000000?line=41'>42</a>\u001b[0m \u001b[39mif\u001b[39;00m event \u001b[39m==\u001b[39m sg\u001b[39m.\u001b[39mWIN_CLOSED:\n\u001b[0;32m     <a href='vscode-notebook-cell:/c%3A/Python/Best%20Projects/image%20editor/imageeditor.ipynb#ch0000000?line=42'>43</a>\u001b[0m     \u001b[39mbreak\u001b[39;00m\n\u001b[1;32m---> <a href='vscode-notebook-cell:/c%3A/Python/Best%20Projects/image%20editor/imageeditor.ipynb#ch0000000?line=44'>45</a>\u001b[0m update_image(\n\u001b[0;32m     <a href='vscode-notebook-cell:/c%3A/Python/Best%20Projects/image%20editor/imageeditor.ipynb#ch0000000?line=45'>46</a>\u001b[0m     original, \n\u001b[0;32m     <a href='vscode-notebook-cell:/c%3A/Python/Best%20Projects/image%20editor/imageeditor.ipynb#ch0000000?line=46'>47</a>\u001b[0m     values[\u001b[39m'\u001b[39;49m\u001b[39m-BLUR-\u001b[39;49m\u001b[39m'\u001b[39;49m],\n\u001b[0;32m     <a href='vscode-notebook-cell:/c%3A/Python/Best%20Projects/image%20editor/imageeditor.ipynb#ch0000000?line=47'>48</a>\u001b[0m     values[\u001b[39m'\u001b[39;49m\u001b[39m-CONTRAST-\u001b[39;49m\u001b[39m'\u001b[39;49m], \n\u001b[0;32m     <a href='vscode-notebook-cell:/c%3A/Python/Best%20Projects/image%20editor/imageeditor.ipynb#ch0000000?line=48'>49</a>\u001b[0m     values[\u001b[39m'\u001b[39;49m\u001b[39m-EMBOSS-\u001b[39;49m\u001b[39m'\u001b[39;49m], \n\u001b[0;32m     <a href='vscode-notebook-cell:/c%3A/Python/Best%20Projects/image%20editor/imageeditor.ipynb#ch0000000?line=49'>50</a>\u001b[0m     values[\u001b[39m'\u001b[39;49m\u001b[39m-CONTOUR-\u001b[39;49m\u001b[39m'\u001b[39;49m],\n\u001b[0;32m     <a href='vscode-notebook-cell:/c%3A/Python/Best%20Projects/image%20editor/imageeditor.ipynb#ch0000000?line=50'>51</a>\u001b[0m     values[\u001b[39m'\u001b[39;49m\u001b[39m-FLIPX-\u001b[39;49m\u001b[39m'\u001b[39;49m],\n\u001b[0;32m     <a href='vscode-notebook-cell:/c%3A/Python/Best%20Projects/image%20editor/imageeditor.ipynb#ch0000000?line=51'>52</a>\u001b[0m     values[\u001b[39m'\u001b[39;49m\u001b[39m-FLIPY-\u001b[39;49m\u001b[39m'\u001b[39;49m])\n\u001b[0;32m     <a href='vscode-notebook-cell:/c%3A/Python/Best%20Projects/image%20editor/imageeditor.ipynb#ch0000000?line=53'>54</a>\u001b[0m \u001b[39mif\u001b[39;00m event \u001b[39m==\u001b[39m \u001b[39m'\u001b[39m\u001b[39m-SAVE-\u001b[39m\u001b[39m'\u001b[39m:\n\u001b[0;32m     <a href='vscode-notebook-cell:/c%3A/Python/Best%20Projects/image%20editor/imageeditor.ipynb#ch0000000?line=54'>55</a>\u001b[0m     save_path \u001b[39m=\u001b[39m sg\u001b[39m.\u001b[39mpopup_get_file(\u001b[39m'\u001b[39m\u001b[39mSave\u001b[39m\u001b[39m'\u001b[39m,save_as \u001b[39m=\u001b[39m \u001b[39mTrue\u001b[39;00m, no_window \u001b[39m=\u001b[39m \u001b[39mTrue\u001b[39;00m) \u001b[39m+\u001b[39m \u001b[39m'\u001b[39m\u001b[39m.png\u001b[39m\u001b[39m'\u001b[39m\n",
      "\u001b[1;32mc:\\Python\\Best Projects\\image editor\\imageeditor.ipynb Cell 1'\u001b[0m in \u001b[0;36mupdate_image\u001b[1;34m(original, blur, contrast, emboss, contour, flipx, flipy)\u001b[0m\n\u001b[0;32m      <a href='vscode-notebook-cell:/c%3A/Python/Best%20Projects/image%20editor/imageeditor.ipynb#ch0000000?line=5'>6</a>\u001b[0m \u001b[39mdef\u001b[39;00m \u001b[39mupdate_image\u001b[39m(original,blur,contrast,emboss,contour,flipx,flipy):\n\u001b[0;32m      <a href='vscode-notebook-cell:/c%3A/Python/Best%20Projects/image%20editor/imageeditor.ipynb#ch0000000?line=6'>7</a>\u001b[0m     \u001b[39mglobal\u001b[39;00m image\n\u001b[1;32m----> <a href='vscode-notebook-cell:/c%3A/Python/Best%20Projects/image%20editor/imageeditor.ipynb#ch0000000?line=7'>8</a>\u001b[0m     image \u001b[39m=\u001b[39m original\u001b[39m.\u001b[39;49mfilter(ImageFilter\u001b[39m.\u001b[39;49mGaussianBlur(blur))\n\u001b[0;32m      <a href='vscode-notebook-cell:/c%3A/Python/Best%20Projects/image%20editor/imageeditor.ipynb#ch0000000?line=8'>9</a>\u001b[0m     image \u001b[39m=\u001b[39m image\u001b[39m.\u001b[39mfilter(ImageFilter\u001b[39m.\u001b[39mUnsharpMask(contrast))\n\u001b[0;32m     <a href='vscode-notebook-cell:/c%3A/Python/Best%20Projects/image%20editor/imageeditor.ipynb#ch0000000?line=10'>11</a>\u001b[0m     \u001b[39mif\u001b[39;00m emboss:\n",
      "File \u001b[1;32m~\\AppData\\Local\\Programs\\Python\\Python38\\lib\\site-packages\\PIL\\Image.py:1280\u001b[0m, in \u001b[0;36mImage.filter\u001b[1;34m(self, filter)\u001b[0m\n\u001b[0;32m   <a href='file:///c%3A/Users/User/AppData/Local/Programs/Python/Python38/lib/site-packages/PIL/Image.py?line=1277'>1278</a>\u001b[0m multiband \u001b[39m=\u001b[39m \u001b[39misinstance\u001b[39m(\u001b[39mfilter\u001b[39m, ImageFilter\u001b[39m.\u001b[39mMultibandFilter)\n\u001b[0;32m   <a href='file:///c%3A/Users/User/AppData/Local/Programs/Python/Python38/lib/site-packages/PIL/Image.py?line=1278'>1279</a>\u001b[0m \u001b[39mif\u001b[39;00m \u001b[39mself\u001b[39m\u001b[39m.\u001b[39mim\u001b[39m.\u001b[39mbands \u001b[39m==\u001b[39m \u001b[39m1\u001b[39m \u001b[39mor\u001b[39;00m multiband:\n\u001b[1;32m-> <a href='file:///c%3A/Users/User/AppData/Local/Programs/Python/Python38/lib/site-packages/PIL/Image.py?line=1279'>1280</a>\u001b[0m     \u001b[39mreturn\u001b[39;00m \u001b[39mself\u001b[39m\u001b[39m.\u001b[39m_new(\u001b[39mfilter\u001b[39;49m\u001b[39m.\u001b[39;49mfilter(\u001b[39mself\u001b[39;49m\u001b[39m.\u001b[39;49mim))\n\u001b[0;32m   <a href='file:///c%3A/Users/User/AppData/Local/Programs/Python/Python38/lib/site-packages/PIL/Image.py?line=1281'>1282</a>\u001b[0m ims \u001b[39m=\u001b[39m []\n\u001b[0;32m   <a href='file:///c%3A/Users/User/AppData/Local/Programs/Python/Python38/lib/site-packages/PIL/Image.py?line=1282'>1283</a>\u001b[0m \u001b[39mfor\u001b[39;00m c \u001b[39min\u001b[39;00m \u001b[39mrange\u001b[39m(\u001b[39mself\u001b[39m\u001b[39m.\u001b[39mim\u001b[39m.\u001b[39mbands):\n",
      "File \u001b[1;32m~\\AppData\\Local\\Programs\\Python\\Python38\\lib\\site-packages\\PIL\\ImageFilter.py:165\u001b[0m, in \u001b[0;36mGaussianBlur.filter\u001b[1;34m(self, image)\u001b[0m\n\u001b[0;32m    <a href='file:///c%3A/Users/User/AppData/Local/Programs/Python/Python38/lib/site-packages/PIL/ImageFilter.py?line=163'>164</a>\u001b[0m \u001b[39mdef\u001b[39;00m \u001b[39mfilter\u001b[39m(\u001b[39mself\u001b[39m, image):\n\u001b[1;32m--> <a href='file:///c%3A/Users/User/AppData/Local/Programs/Python/Python38/lib/site-packages/PIL/ImageFilter.py?line=164'>165</a>\u001b[0m     \u001b[39mreturn\u001b[39;00m image\u001b[39m.\u001b[39;49mgaussian_blur(\u001b[39mself\u001b[39;49m\u001b[39m.\u001b[39;49mradius)\n",
      "\u001b[1;31mValueError\u001b[0m: image has wrong mode"
     ]
    }
   ],
   "source": [
    "#Image Editor\n",
    "import PySimpleGUI as sg\n",
    "from PIL import Image, ImageFilter, ImageOps\n",
    "from io import BytesIO\n",
    " \n",
    "def update_image(original,blur,contrast,emboss,contour,flipx,flipy):\n",
    "    global image\n",
    "    image = original.filter(ImageFilter.GaussianBlur(blur))\n",
    "    image = image.filter(ImageFilter.UnsharpMask(contrast))\n",
    " \n",
    "    if emboss:\n",
    "        image = image.filter(ImageFilter.EMBOSS())\n",
    "    if contour:\n",
    "        image = image.filter(ImageFilter.CONTOUR())\n",
    " \n",
    "    if flipx:\n",
    "        image = ImageOps.mirror(image)\n",
    "    if flipy:\n",
    "        image = ImageOps.flip(image)\n",
    " \n",
    "    bio = BytesIO()\n",
    "    image.save(bio, format = 'PNG')\n",
    " \n",
    "    window['-IMAGE-'].update(data = bio.getvalue())\n",
    " \n",
    "image_path = sg.popup_get_file('Open',no_window = True)\n",
    " \n",
    "control_col = sg.Column([\n",
    "    [sg.Frame('Blur',layout = [[sg.Slider(range = (0,10), orientation = 'h', key = '-BLUR-')]])],\n",
    "    [sg.Frame('Contrast',layout = [[sg.Slider(range = (0,10), orientation = 'h', key = '-CONTRAST-')]])],\n",
    "    [sg.Checkbox('Emboss', key = '-EMBOSS-'), sg.Checkbox('Contour', key = '-CONTOUR-')],\n",
    "    [sg.Checkbox('Flip x', key = '-FLIPX-'), sg.Checkbox('Flip y', key = '-FLIPY-')],\n",
    "    [sg.Button('Save image', key = '-SAVE-')],])\n",
    "image_col = sg.Column([[sg.Image(image_path, key = '-IMAGE-')]])\n",
    "layout = [[control_col,image_col]]\n",
    " \n",
    "original = Image.open(image_path)\n",
    "window = sg.Window('Image Editor', layout)\n",
    " \n",
    "while True:\n",
    "    event, values = window.read(timeout = 50)\n",
    "    if event == sg.WIN_CLOSED:\n",
    "        break\n",
    " \n",
    "    update_image(\n",
    "        original, \n",
    "        values['-BLUR-'],\n",
    "        values['-CONTRAST-'], \n",
    "        values['-EMBOSS-'], \n",
    "        values['-CONTOUR-'],\n",
    "        values['-FLIPX-'],\n",
    "        values['-FLIPY-'])\n",
    " \n",
    "    if event == '-SAVE-':\n",
    "        save_path = sg.popup_get_file('Save',save_as = True, no_window = True) + '.png'\n",
    "        image.save(save_path,'PNG')\n",
    "        \n",
    "window.close()"
   ]
  }
 ],
 "metadata": {
  "interpreter": {
   "hash": "5c0372ed38b372118c24adb00d45654d76c8d10261533c5724e3f5fc1d75489a"
  },
  "kernelspec": {
   "display_name": "Python 3.8.9 64-bit",
   "language": "python",
   "name": "python3"
  },
  "language_info": {
   "codemirror_mode": {
    "name": "ipython",
    "version": 3
   },
   "file_extension": ".py",
   "mimetype": "text/x-python",
   "name": "python",
   "nbconvert_exporter": "python",
   "pygments_lexer": "ipython3",
   "version": "3.8.9"
  },
  "orig_nbformat": 4
 },
 "nbformat": 4,
 "nbformat_minor": 2
}
